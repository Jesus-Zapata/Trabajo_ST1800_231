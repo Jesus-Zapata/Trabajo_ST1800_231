{
  "nbformat": 4,
  "nbformat_minor": 0,
  "metadata": {
    "colab": {
      "provenance": []
    },
    "kernelspec": {
      "name": "python3",
      "display_name": "Python 3"
    },
    "language_info": {
      "name": "python"
    }
  },
  "cells": [
    {
      "cell_type": "code",
      "execution_count": null,
      "metadata": {
        "colab": {
          "base_uri": "https://localhost:8080/"
        },
        "id": "RIOLLFjz9WC6",
        "outputId": "e98bbe38-b91b-4c21-c102-c0e83d544e16"
      },
      "outputs": [
        {
          "output_type": "stream",
          "name": "stdout",
          "text": [
            "Drive already mounted at /content/gdrive; to attempt to forcibly remount, call drive.mount(\"/content/gdrive\", force_remount=True).\n"
          ]
        }
      ],
      "source": [
        "from google.colab import drive\n",
        "drive.mount('/content/gdrive')"
      ]
    },
    {
      "cell_type": "code",
      "source": [
        "!apt-get install openjdk-11-jdk-headless -qq > /dev/null\n",
        "!wget -q https://downloads.apache.org/spark/spark-3.3.2/spark-3.3.2-bin-hadoop3.tgz\n",
        "!tar xf spark-3.3.2-bin-hadoop3.tgz\n",
        "!pip install -q findspark\n",
        "\n",
        "import os\n",
        "os.environ[\"JAVA_HOME\"] = \"/usr/lib/jvm/java-11-openjdk-amd64\"\n",
        "os.environ[\"SPARK_HOME\"] = \"/content/spark-3.3.2-bin-hadoop3\"\n",
        "\n",
        "import findspark\n",
        "findspark.init()\n",
        "from pyspark.sql import SparkSession\n",
        "spark = SparkSession.builder.master(\"local[*]\").getOrCreate()\n",
        "sc = spark.sparkContext"
      ],
      "metadata": {
        "id": "KYRKeraz9fSG"
      },
      "execution_count": null,
      "outputs": []
    },
    {
      "cell_type": "code",
      "source": [
        "df=spark.read.csv('/content/gdrive/MyDrive/st1800-231/twitterClimateData.csv',inferSchema=True,header=True, sep=';')"
      ],
      "metadata": {
        "id": "O-N9c5h993AJ"
      },
      "execution_count": null,
      "outputs": []
    },
    {
      "cell_type": "code",
      "source": [
        "df.head(5)"
      ],
      "metadata": {
        "colab": {
          "base_uri": "https://localhost:8080/"
        },
        "id": "wrmTTgiwAEBz",
        "outputId": "0434ab02-62ae-42d2-92e7-a7387d4958f9"
      },
      "execution_count": null,
      "outputs": [
        {
          "output_type": "execute_result",
          "data": {
            "text/plain": [
              "[Row(Unnamed: 0=0, id='1.21181e+18', author_id=7.59e+17, text='2020 is the year we #votethemout, the year we #climatestrike our hearts out, the year we #rebelforlife because without a liveable future nothing else matters. 2020 is the year we get shit done. (3/3)', retweets='15', permalink='https://twitter.com/Sphiamia/status/1211807074436431872', date='2019-12-31 00:31:35+00:00', formatted_date='Tue Dec 31 00:31:35 +0000 2019', favorites='46', mentions=None, hashtags='#votethemout #climatestrike #rebelforlife', geo=None, urls=None, search_hashtags='#climatestrike', location='California, USA'),\n",
              " Row(Unnamed: 0=1, id='1.21067e+18', author_id=22195472.0, text='Winter has not stopped this group of dedicated climate activists. They are an example to follow. #climatefriday #climatestrike #ClimateAction', retweets='9', permalink='https://twitter.com/StephDujarric/status/1210665747212591104', date='2019-12-27 20:56:21+00:00', formatted_date='Fri Dec 27 20:56:21 +0000 2019', favorites='35', mentions=None, hashtags='#climatefriday #climatestrike #ClimateAction', geo=None, urls=None, search_hashtags='#climatestrike', location='California, USA'),\n",
              " Row(Unnamed: 0=2, id='1.21059e+18', author_id=1.07e+18, text=\"WEEK 55 of #ClimateStrike at the @UN. Next week, @Fridays4future heads into its 3rd year of striking. As our time on the streets gets longer, we need you to act and do something for the climate. In 2020, people must stop looking away and stop pretending this crisis doesn't exist. – at United Nations\", retweets='545', permalink='https://twitter.com/AlexandriaV2005/status/1210588742282555392', date='2019-12-27 15:50:22+00:00', formatted_date='Fri Dec 27 15:50:22 +0000 2019', favorites='3283', mentions='@UN @Fridays4future', hashtags='#ClimateStrike', geo=None, urls=None, search_hashtags='#climatestrike', location='California, USA'),\n",
              " Row(Unnamed: 0=3, id='1.21026e+18', author_id=1339821457.0, text='A year of resistance, as youth protests shaped climate change discussions HOW ACTIVE WILL THIS YOUTH VOTE BE IN 2020 https://www.channelnewsasia.com/news/commentary/climate-action-protests-2019-2020-greta-thunberg-time-person-12205688 #greta #gretathunberg #climatechange #fridaysforfuture #kickass #climatestrike #climate #thwave #chloegracemoretz #love #bhfyp .', retweets='1', permalink='https://twitter.com/EnergyHouseVA/status/1210257324989923335', date='2019-12-26 17:53:26+00:00', formatted_date='Thu Dec 26 17:53:26 +0000 2019', favorites='2', mentions=None, hashtags='#greta #gretathunberg #climatechange #fridaysforfuture #kickass #climatestrike #climate #thwave #chloegracemoretz #love #bhfyp', geo=None, urls='https://www.channelnewsasia.com/news/commentary/climate-action-protests-2019-2020-greta-thunberg-time-person-12205688', search_hashtags='#climatestrike', location='California, USA'),\n",
              " Row(Unnamed: 0=4, id='1.20964e+18', author_id=1339821457.0, text=' HAPPY HOLIDAYS #greta #gretathunberg #climatechange #fridaysforfuture #kickass #climatestrike #chloemoretz #climate #thwave #chloegracemoretz #love #globalclimatestrike #bhfyp FROM THE ENERGY HOUSE TEAM http://www.energyhouse.us http://www.pacenowforalexandria.com #Virginia #washingtonDC', retweets='1', permalink='https://twitter.com/EnergyHouseVA/status/1209639046370222081', date='2019-12-25 00:56:37+00:00', formatted_date='Wed Dec 25 00:56:37 +0000 2019', favorites='4', mentions=None, hashtags='#greta #gretathunberg #climatechange #fridaysforfuture #kickass #climatestrike #chloemoretz #climate #thwave #chloegracemoretz #love #globalclimatestrike #bhfyp #Virginia #washingtonDC', geo=None, urls='http://www.energyhouse.us,http://www.pacenowforalexandria.com', search_hashtags='#climatestrike', location='California, USA')]"
            ]
          },
          "metadata": {},
          "execution_count": 36
        }
      ]
    },
    {
      "cell_type": "code",
      "source": [
        "df.printSchema()"
      ],
      "metadata": {
        "colab": {
          "base_uri": "https://localhost:8080/"
        },
        "id": "DsMPZnU0AOuW",
        "outputId": "5ad1b640-2823-4194-9860-c8cf9cd56da5"
      },
      "execution_count": null,
      "outputs": [
        {
          "output_type": "stream",
          "name": "stdout",
          "text": [
            "root\n",
            " |-- Unnamed: 0: integer (nullable = true)\n",
            " |-- id: string (nullable = true)\n",
            " |-- author_id: double (nullable = true)\n",
            " |-- text: string (nullable = true)\n",
            " |-- retweets: string (nullable = true)\n",
            " |-- permalink: string (nullable = true)\n",
            " |-- date: string (nullable = true)\n",
            " |-- formatted_date: string (nullable = true)\n",
            " |-- favorites: string (nullable = true)\n",
            " |-- mentions: string (nullable = true)\n",
            " |-- hashtags: string (nullable = true)\n",
            " |-- geo: string (nullable = true)\n",
            " |-- urls: string (nullable = true)\n",
            " |-- search_hashtags: string (nullable = true)\n",
            " |-- location: string (nullable = true)\n",
            "\n"
          ]
        }
      ]
    },
    {
      "cell_type": "code",
      "source": [
        "#Tokenización\n",
        "from pyspark.ml.feature import Tokenizer\n",
        "tokenization=Tokenizer(inputCol='text',outputCol='tokens')\n",
        "tokenized_df=tokenization.transform(df)\n",
        "tokenized_df.printSchema()\n",
        "tokenized_df.show(5)"
      ],
      "metadata": {
        "colab": {
          "base_uri": "https://localhost:8080/"
        },
        "id": "AahNJUaoEeHq",
        "outputId": "8201e687-5d34-45a8-d426-9cbb3d12816c"
      },
      "execution_count": null,
      "outputs": [
        {
          "output_type": "stream",
          "name": "stdout",
          "text": [
            "root\n",
            " |-- Unnamed: 0: integer (nullable = true)\n",
            " |-- id: string (nullable = true)\n",
            " |-- author_id: double (nullable = true)\n",
            " |-- text: string (nullable = true)\n",
            " |-- retweets: string (nullable = true)\n",
            " |-- permalink: string (nullable = true)\n",
            " |-- date: string (nullable = true)\n",
            " |-- formatted_date: string (nullable = true)\n",
            " |-- favorites: string (nullable = true)\n",
            " |-- mentions: string (nullable = true)\n",
            " |-- hashtags: string (nullable = true)\n",
            " |-- geo: string (nullable = true)\n",
            " |-- urls: string (nullable = true)\n",
            " |-- search_hashtags: string (nullable = true)\n",
            " |-- location: string (nullable = true)\n",
            " |-- tokens: array (nullable = true)\n",
            " |    |-- element: string (containsNull = true)\n",
            "\n",
            "+----------+-----------+-------------+--------------------+--------+--------------------+--------------------+--------------------+---------+-------------------+--------------------+----+--------------------+---------------+---------------+--------------------+\n",
            "|Unnamed: 0|         id|    author_id|                text|retweets|           permalink|                date|      formatted_date|favorites|           mentions|            hashtags| geo|                urls|search_hashtags|       location|              tokens|\n",
            "+----------+-----------+-------------+--------------------+--------+--------------------+--------------------+--------------------+---------+-------------------+--------------------+----+--------------------+---------------+---------------+--------------------+\n",
            "|         0|1.21181e+18|      7.59E17|2020 is the year ...|      15|https://twitter.c...|2019-12-31 00:31:...|Tue Dec 31 00:31:...|       46|               null|#votethemout #cli...|null|                null| #climatestrike|California, USA|[2020, is, the, y...|\n",
            "|         1|1.21067e+18|  2.2195472E7|Winter has not st...|       9|https://twitter.c...|2019-12-27 20:56:...|Fri Dec 27 20:56:...|       35|               null|#climatefriday #c...|null|                null| #climatestrike|California, USA|[winter, has, not...|\n",
            "|         2|1.21059e+18|      1.07E18|WEEK 55 of #Clima...|     545|https://twitter.c...|2019-12-27 15:50:...|Fri Dec 27 15:50:...|     3283|@UN @Fridays4future|      #ClimateStrike|null|                null| #climatestrike|California, USA|[week, 55, of, #c...|\n",
            "|         3|1.21026e+18|1.339821457E9|A year of resista...|       1|https://twitter.c...|2019-12-26 17:53:...|Thu Dec 26 17:53:...|        2|               null|#greta #gretathun...|null|https://www.chann...| #climatestrike|California, USA|[a, year, of, res...|\n",
            "|         4|1.20964e+18|1.339821457E9| HAPPY HOLIDAYS #...|       1|https://twitter.c...|2019-12-25 00:56:...|Wed Dec 25 00:56:...|        4|               null|#greta #gretathun...|null|http://www.energy...| #climatestrike|California, USA|[, happy, holiday...|\n",
            "+----------+-----------+-------------+--------------------+--------+--------------------+--------------------+--------------------+---------+-------------------+--------------------+----+--------------------+---------------+---------------+--------------------+\n",
            "only showing top 5 rows\n",
            "\n"
          ]
        }
      ]
    },
    {
      "cell_type": "code",
      "source": [
        "#Remover stop words\n",
        "from pyspark.ml.feature import StopWordsRemover\n",
        "stopword_removal=StopWordsRemover(inputCol='tokens',outputCol='refined_tokens')\n",
        "refined_df=stopword_removal.transform(tokenized_df)\n",
        "refined_df.select(['tokens','refined_tokens']).show(10,False)"
      ],
      "metadata": {
        "colab": {
          "base_uri": "https://localhost:8080/"
        },
        "id": "2n_cnNdoFaV3",
        "outputId": "fb77af13-1467-4ee1-fc0f-347e6a67bb15"
      },
      "execution_count": null,
      "outputs": [
        {
          "output_type": "stream",
          "name": "stdout",
          "text": [
            "+-------------------------------------------------------------------------------------------------------------------------------------------------------------------------------------------------------------------------------------------------------------------------------------------------------------------------------------------------------------------------------------------------------------+-------------------------------------------------------------------------------------------------------------------------------------------------------------------------------------------------------------------------------------------------------------------------------------------------------------------------------------------------------------------------+\n",
            "|tokens                                                                                                                                                                                                                                                                                                                                                                                                       |refined_tokens                                                                                                                                                                                                                                                                                                                                                           |\n",
            "+-------------------------------------------------------------------------------------------------------------------------------------------------------------------------------------------------------------------------------------------------------------------------------------------------------------------------------------------------------------------------------------------------------------+-------------------------------------------------------------------------------------------------------------------------------------------------------------------------------------------------------------------------------------------------------------------------------------------------------------------------------------------------------------------------+\n",
            "|[2020, is, the, year, we, #votethemout,, the, year, we, #climatestrike, our, hearts, out,, the, year, we, #rebelforlife, because, without, a, liveable, future, nothing, else, matters., 2020, is, the, year, we, get, shit, done., (3/3)]                                                                                                                                                                   |[2020, year, #votethemout,, year, #climatestrike, hearts, out,, year, #rebelforlife, without, liveable, future, nothing, else, matters., 2020, year, get, shit, done., (3/3)]                                                                                                                                                                                            |\n",
            "|[winter, has, not, stopped, this, group, of, dedicated, climate, activists., they, are, an, example, to, follow., #climatefriday, #climatestrike, #climateaction]                                                                                                                                                                                                                                            |[winter, stopped, group, dedicated, climate, activists., example, follow., #climatefriday, #climatestrike, #climateaction]                                                                                                                                                                                                                                               |\n",
            "|[week, 55, of, #climatestrike, at, the, @un., next, week,, @fridays4future, heads, into, its, 3rd, year, of, striking., as, our, time, on, the, streets, gets, longer,, we, need, you, to, act, and, do, something, for, the, climate., in, 2020,, people, must, stop, looking, away, and, stop, pretending, this, crisis, doesn't, exist., –, at, united, nations]                                          |[week, 55, #climatestrike, @un., next, week,, @fridays4future, heads, 3rd, year, striking., time, streets, gets, longer,, need, act, something, climate., 2020,, people, must, stop, looking, away, stop, pretending, crisis, exist., –, united, nations]                                                                                                                |\n",
            "|[a, year, of, resistance,, as, youth, protests, shaped, climate, change, discussions, how, active, will, this, youth, vote, be, in, 2020, https://www.channelnewsasia.com/news/commentary/climate-action-protests-2019-2020-greta-thunberg-time-person-12205688, #greta, #gretathunberg, #climatechange, #fridaysforfuture, #kickass, #climatestrike, #climate, #thwave, #chloegracemoretz, #love, #bhfyp, .]|[year, resistance,, youth, protests, shaped, climate, change, discussions, active, youth, vote, 2020, https://www.channelnewsasia.com/news/commentary/climate-action-protests-2019-2020-greta-thunberg-time-person-12205688, #greta, #gretathunberg, #climatechange, #fridaysforfuture, #kickass, #climatestrike, #climate, #thwave, #chloegracemoretz, #love, #bhfyp, .]|\n",
            "|[, happy, holidays, #greta, #gretathunberg, #climatechange, #fridaysforfuture, #kickass, #climatestrike, #chloemoretz, #climate, #thwave, #chloegracemoretz, #love, #globalclimatestrike, #bhfyp, from, the, energy, house, team, http://www.energyhouse.us, http://www.pacenowforalexandria.com, #virginia, #washingtondc]                                                                                  |[, happy, holidays, #greta, #gretathunberg, #climatechange, #fridaysforfuture, #kickass, #climatestrike, #chloemoretz, #climate, #thwave, #chloegracemoretz, #love, #globalclimatestrike, #bhfyp, energy, house, team, http://www.energyhouse.us, http://www.pacenowforalexandria.com, #virginia, #washingtondc]                                                         |\n",
            "|[10, questions, to, ask, politicians, about, climate, change, https://www.momscleanairforce.org/ask-politicians-about-climate-change/, #climatechange, #nature, #environment, #climate, #climatestrike, #globalwarming, #savetheplanet, #sustainability, #gretathunberg, #zerowaste, #ecofriendly, #climatecrisis, #fridaysforfuture, #earth]                                                                |[10, questions, ask, politicians, climate, change, https://www.momscleanairforce.org/ask-politicians-about-climate-change/, #climatechange, #nature, #environment, #climate, #climatestrike, #globalwarming, #savetheplanet, #sustainability, #gretathunberg, #zerowaste, #ecofriendly, #climatecrisis, #fridaysforfuture, #earth]                                       |\n",
            "|[#climatestrike, #fridaysforfuture, #portraits, #uniquechristmasgifts, #shopsmall, #inspiration, #hope, #merrychrismas, #lgbtq, #lgbt, #future, #timepersonoftheyear2019, #gretagate2019, @janefonda, @gretathunberg]                                                                                                                                                                                        |[#climatestrike, #fridaysforfuture, #portraits, #uniquechristmasgifts, #shopsmall, #inspiration, #hope, #merrychrismas, #lgbtq, #lgbt, #future, #timepersonoftheyear2019, #gretagate2019, @janefonda, @gretathunberg]                                                                                                                                                    |\n",
            "|[#climatechangeisreal, #climatestrike, #climateactionnow]                                                                                                                                                                                                                                                                                                                                                    |[#climatechangeisreal, #climatestrike, #climateactionnow]                                                                                                                                                                                                                                                                                                                |\n",
            "|[my, oldest, daughter, finding, inspiration, and, encouragement, about, the, future, by, reading, up, on, times,, person, of, the, year,, greta, thunberg, #climatestrike, #letthekidsunite, #futureleaders]                                                                                                                                                                                                 |[oldest, daughter, finding, inspiration, encouragement, future, reading, times,, person, year,, greta, thunberg, #climatestrike, #letthekidsunite, #futureleaders]                                                                                                                                                                                                       |\n",
            "|[our, toddler, #potus, whined, this, week, about, #time, magazine, picking, #gretathurnberg, as, #timepersonoftheyear2019., .@claytoonz, perfectly, captures, the, #pouterinchief, #climatechange, #climatestrike, #climatecrisis, #trumpisnotabovethelaw, #potus45, #gretathunbergoutdidtrumpagain]                                                                                                         |[toddler, #potus, whined, week, #time, magazine, picking, #gretathurnberg, #timepersonoftheyear2019., .@claytoonz, perfectly, captures, #pouterinchief, #climatechange, #climatestrike, #climatecrisis, #trumpisnotabovethelaw, #potus45, #gretathunbergoutdidtrumpagain]                                                                                                |\n",
            "+-------------------------------------------------------------------------------------------------------------------------------------------------------------------------------------------------------------------------------------------------------------------------------------------------------------------------------------------------------------------------------------------------------------+-------------------------------------------------------------------------------------------------------------------------------------------------------------------------------------------------------------------------------------------------------------------------------------------------------------------------------------------------------------------------+\n",
            "only showing top 10 rows\n",
            "\n"
          ]
        }
      ]
    },
    {
      "cell_type": "code",
      "source": [
        "from pyspark.sql.functions import udf\n",
        "from pyspark.sql.types import IntegerType\n",
        "from pyspark.sql.functions import *"
      ],
      "metadata": {
        "id": "qLHL8CMnF_VF"
      },
      "execution_count": null,
      "outputs": []
    },
    {
      "cell_type": "code",
      "source": [
        "len_udf = udf(lambda s: len(s), IntegerType())\n",
        "\n",
        "refined_count_df = refined_df.withColumn(\"token_count\", len_udf(col('refined_tokens')))"
      ],
      "metadata": {
        "id": "NE91ObmsGKDV"
      },
      "execution_count": null,
      "outputs": []
    },
    {
      "cell_type": "code",
      "source": [
        "from pyspark.ml.feature import CountVectorizer\n",
        "count_vec=CountVectorizer(inputCol='refined_tokens',outputCol='features')\n",
        "cv_df=count_vec.fit(refined_df).transform(refined_df)\n",
        "cv_df.select(['refined_tokens','features']).show(4,False)\n",
        "bow = count_vec.fit(refined_df).vocabulary\n",
        "print(bow)\n"
      ],
      "metadata": {
        "colab": {
          "base_uri": "https://localhost:8080/"
        },
        "id": "fnP4GXukGOXN",
        "outputId": "fa15ad14-d445-4011-c5ce-837140bbe4d8"
      },
      "execution_count": null,
      "outputs": []
    },
    {
      "cell_type": "code",
      "source": [
        "from pyspark.ml.feature import HashingTF\n",
        "\n",
        "l = len(bow)\n",
        "hashing_vec=HashingTF(inputCol='refined_tokens',outputCol='tf_features',numFeatures=l)\n",
        "\n",
        "hashing_df=hashing_vec.transform(refined_df)\n",
        "hashing_df.show(4)"
      ],
      "metadata": {
        "colab": {
          "base_uri": "https://localhost:8080/"
        },
        "id": "9s-UwkSyGY3h",
        "outputId": "fe19f0e5-5c35-4410-c9db-cb67234d72a0"
      },
      "execution_count": null,
      "outputs": [
        {
          "output_type": "stream",
          "name": "stdout",
          "text": [
            "+----------+-----------+-------------+--------------------+--------+--------------------+--------------------+--------------------+---------+-------------------+--------------------+----+--------------------+---------------+---------------+--------------------+--------------------+--------------------+\n",
            "|Unnamed: 0|         id|    author_id|                text|retweets|           permalink|                date|      formatted_date|favorites|           mentions|            hashtags| geo|                urls|search_hashtags|       location|              tokens|      refined_tokens|         tf_features|\n",
            "+----------+-----------+-------------+--------------------+--------+--------------------+--------------------+--------------------+---------+-------------------+--------------------+----+--------------------+---------------+---------------+--------------------+--------------------+--------------------+\n",
            "|         0|1.21181e+18|      7.59E17|2020 is the year ...|      15|https://twitter.c...|2019-12-31 00:31:...|Tue Dec 31 00:31:...|       46|               null|#votethemout #cli...|null|                null| #climatestrike|California, USA|[2020, is, the, y...|[2020, year, #vot...|(138575,[990,3010...|\n",
            "|         1|1.21067e+18|  2.2195472E7|Winter has not st...|       9|https://twitter.c...|2019-12-27 20:56:...|Fri Dec 27 20:56:...|       35|               null|#climatefriday #c...|null|                null| #climatestrike|California, USA|[winter, has, not...|[winter, stopped,...|(138575,[5566,813...|\n",
            "|         2|1.21059e+18|      1.07E18|WEEK 55 of #Clima...|     545|https://twitter.c...|2019-12-27 15:50:...|Fri Dec 27 15:50:...|     3283|@UN @Fridays4future|      #ClimateStrike|null|                null| #climatestrike|California, USA|[week, 55, of, #c...|[week, 55, #clima...|(138575,[13230,17...|\n",
            "|         3|1.21026e+18|1.339821457E9|A year of resista...|       1|https://twitter.c...|2019-12-26 17:53:...|Thu Dec 26 17:53:...|        2|               null|#greta #gretathun...|null|https://www.chann...| #climatestrike|California, USA|[a, year, of, res...|[year, resistance...|(138575,[3010,148...|\n",
            "+----------+-----------+-------------+--------------------+--------+--------------------+--------------------+--------------------+---------+-------------------+--------------------+----+--------------------+---------------+---------------+--------------------+--------------------+--------------------+\n",
            "only showing top 4 rows\n",
            "\n"
          ]
        }
      ]
    },
    {
      "cell_type": "code",
      "source": [
        "from pyspark.ml.feature import IDF\n",
        "tf_idf_vec=IDF(inputCol='tf_features',outputCol='tf_idf_features')\n",
        "tf_idf_df=tf_idf_vec.fit(hashing_df).transform(hashing_df)\n",
        "tf_idf_df.show(4,False)"
      ],
      "metadata": {
        "colab": {
          "base_uri": "https://localhost:8080/"
        },
        "id": "5q0bRt-VGtuy",
        "outputId": "e7557512-1748-4b10-c08d-e6c8f5edfb51"
      },
      "execution_count": null,
      "outputs": [
        {
          "output_type": "stream",
          "name": "stdout",
          "text": [
            "+----------+-----------+-------------+---------------------------------------------------------------------------------------------------------------------------------------------------------------------------------------------------------------------------------------------------------------------------------------------------------------------------------------------------------------------------+--------+--------------------------------------------------------------+-------------------------+------------------------------+---------+-------------------+------------------------------------------------------------------------------------------------------------------------------+----+---------------------------------------------------------------------------------------------------------------------+---------------+---------------+-------------------------------------------------------------------------------------------------------------------------------------------------------------------------------------------------------------------------------------------------------------------------------------------------------------------------------------------------------------------------------------------------------------+-------------------------------------------------------------------------------------------------------------------------------------------------------------------------------------------------------------------------------------------------------------------------------------------------------------------------------------------------------------------------+--------------------------------------------------------------------------------------------------------------------------------------------------------------------------------------------------------------------------------------------------------------------------------------------------------------------------------------------------+-------------------------------------------------------------------------------------------------------------------------------------------------------------------------------------------------------------------------------------------------------------------------------------------------------------------------------------------------------------------------------------------------------------------------------------------------------------------------------------------------------------------------------------------------------------------------------------------------------------------------------------------------------------------------------------------------------------------------------------------------------------------------------------------------------+\n",
            "|Unnamed: 0|id         |author_id    |text                                                                                                                                                                                                                                                                                                                                                                       |retweets|permalink                                                     |date                     |formatted_date                |favorites|mentions           |hashtags                                                                                                                      |geo |urls                                                                                                                 |search_hashtags|location       |tokens                                                                                                                                                                                                                                                                                                                                                                                                       |refined_tokens                                                                                                                                                                                                                                                                                                                                                           |tf_features                                                                                                                                                                                                                                                                                                                                       |tf_idf_features                                                                                                                                                                                                                                                                                                                                                                                                                                                                                                                                                                                                                                                                                                                                                                                        |\n",
            "+----------+-----------+-------------+---------------------------------------------------------------------------------------------------------------------------------------------------------------------------------------------------------------------------------------------------------------------------------------------------------------------------------------------------------------------------+--------+--------------------------------------------------------------+-------------------------+------------------------------+---------+-------------------+------------------------------------------------------------------------------------------------------------------------------+----+---------------------------------------------------------------------------------------------------------------------+---------------+---------------+-------------------------------------------------------------------------------------------------------------------------------------------------------------------------------------------------------------------------------------------------------------------------------------------------------------------------------------------------------------------------------------------------------------+-------------------------------------------------------------------------------------------------------------------------------------------------------------------------------------------------------------------------------------------------------------------------------------------------------------------------------------------------------------------------+--------------------------------------------------------------------------------------------------------------------------------------------------------------------------------------------------------------------------------------------------------------------------------------------------------------------------------------------------+-------------------------------------------------------------------------------------------------------------------------------------------------------------------------------------------------------------------------------------------------------------------------------------------------------------------------------------------------------------------------------------------------------------------------------------------------------------------------------------------------------------------------------------------------------------------------------------------------------------------------------------------------------------------------------------------------------------------------------------------------------------------------------------------------------+\n",
            "|0         |1.21181e+18|7.59E17      |2020 is the year we #votethemout, the year we #climatestrike our hearts out, the year we #rebelforlife because without a liveable future nothing else matters. 2020 is the year we get shit done. (3/3)                                                                                                                                                                    |15      |https://twitter.com/Sphiamia/status/1211807074436431872       |2019-12-31 00:31:35+00:00|Tue Dec 31 00:31:35 +0000 2019|46       |null               |#votethemout #climatestrike #rebelforlife                                                                                     |null|null                                                                                                                 |#climatestrike |California, USA|[2020, is, the, year, we, #votethemout,, the, year, we, #climatestrike, our, hearts, out,, the, year, we, #rebelforlife, because, without, a, liveable, future, nothing, else, matters., 2020, is, the, year, we, get, shit, done., (3/3)]                                                                                                                                                                   |[2020, year, #votethemout,, year, #climatestrike, hearts, out,, year, #rebelforlife, without, liveable, future, nothing, else, matters., 2020, year, get, shit, done., (3/3)]                                                                                                                                                                                            |(138575,[990,3010,8700,14130,19143,20760,31607,33511,35863,38838,44124,52709,60600,74017,81660,83349,84076],[1.0,2.0,1.0,1.0,1.0,1.0,1.0,1.0,1.0,1.0,4.0,1.0,1.0,1.0,1.0,1.0,1.0])                                                                                                                                                                |(138575,[990,3010,8700,14130,19143,20760,31607,33511,35863,38838,44124,52709,60600,74017,81660,83349,84076],[6.941549205818855,11.556796792026347,8.011990617520267,8.481994246766003,5.16659685490718,9.580606535434113,7.112507003962493,7.258218815143888,3.802954212211456,7.405854813949952,18.945677795902085,5.922186288804885,7.164692757133064,5.2984002360424425,6.453845999473717,1.2360539131589783,3.645712339814525])                                                                                                                                                                                                                                                                                                                                                                    |\n",
            "|1         |1.21067e+18|2.2195472E7  |Winter has not stopped this group of dedicated climate activists. They are an example to follow. #climatefriday #climatestrike #ClimateAction                                                                                                                                                                                                                              |9       |https://twitter.com/StephDujarric/status/1210665747212591104  |2019-12-27 20:56:21+00:00|Fri Dec 27 20:56:21 +0000 2019|35       |null               |#climatefriday #climatestrike #ClimateAction                                                                                  |null|null                                                                                                                 |#climatestrike |California, USA|[winter, has, not, stopped, this, group, of, dedicated, climate, activists., they, are, an, example, to, follow., #climatefriday, #climatestrike, #climateaction]                                                                                                                                                                                                                                            |[winter, stopped, group, dedicated, climate, activists., example, follow., #climatefriday, #climatestrike, #climateaction]                                                                                                                                                                                                                                               |(138575,[5566,8139,52146,61470,74433,83349,97356,97535,103245,112515,121261],[1.0,1.0,1.0,1.0,1.0,1.0,1.0,1.0,1.0,1.0,1.0])                                                                                                                                                                                                                       |(138575,[5566,8139,52146,61470,74433,83349,97356,97535,103245,112515,121261],[5.6887862373234865,6.913378328852158,2.1853761462942356,1.9757120546224929,5.958935831013626,1.2360539131589783,6.090178020044014,6.985351828477247,8.011990617520267,6.453845999473717,7.756057243383067])                                                                                                                                                                                                                                                                                                                                                                                                                                                                                                              |\n",
            "|2         |1.21059e+18|1.07E18      |WEEK 55 of #ClimateStrike at the @UN. Next week, @Fridays4future heads into its 3rd year of striking. As our time on the streets gets longer, we need you to act and do something for the climate. In 2020, people must stop looking away and stop pretending this crisis doesn't exist. – at United Nations                                                               |545     |https://twitter.com/AlexandriaV2005/status/1210588742282555392|2019-12-27 15:50:22+00:00|Fri Dec 27 15:50:22 +0000 2019|3283     |@UN @Fridays4future|#ClimateStrike                                                                                                                |null|null                                                                                                                 |#climatestrike |California, USA|[week, 55, of, #climatestrike, at, the, @un., next, week,, @fridays4future, heads, into, its, 3rd, year, of, striking., as, our, time, on, the, streets, gets, longer,, we, need, you, to, act, and, do, something, for, the, climate., in, 2020,, people, must, stop, looking, away, and, stop, pretending, this, crisis, doesn't, exist., –, at, united, nations]                                          |[week, 55, #climatestrike, @un., next, week,, @fridays4future, heads, 3rd, year, striking., time, streets, gets, longer,, need, act, something, climate., 2020,, people, must, stop, looking, away, stop, pretending, crisis, exist., –, united, nations]                                                                                                                |(138575,[13230,17157,25621,27312,30416,44124,45439,58001,63442,63828,74463,76084,79995,81244,83349,100057,101148,103448,106113,106962,112395,112921,117109,117647,118673,118948,119604,122153,125338,125980,134187],[1.0,1.0,1.0,1.0,1.0,1.0,1.0,1.0,1.0,1.0,1.0,1.0,1.0,1.0,1.0,1.0,1.0,1.0,1.0,1.0,1.0,2.0,1.0,1.0,1.0,1.0,1.0,1.0,1.0,1.0,1.0])|(138575,[13230,17157,25621,27312,30416,44124,45439,58001,63442,63828,74463,76084,79995,81244,83349,100057,101148,103448,106113,106962,112395,112921,117109,117647,118673,118948,119604,122153,125338,125980,134187],[5.403147066501505,3.5327616548900234,7.015657177972576,3.1740566368409757,2.190301658037722,4.736419448975521,8.417455725628432,4.889258653204969,7.857839937693009,4.529469298028527,2.9916800579005933,8.550987118252955,8.299672689972049,7.971168623000012,1.2360539131589783,5.054479556786474,8.356831103811997,4.057546896208169,5.852506368166895,6.724136329213629,6.955937943270953,8.63376122731139,6.096294247061451,4.749097907235292,4.181539265785933,4.373308567273245,8.705137798080212,6.013894715294384,4.728576271514496,4.599743399671527,5.541070209707007])|\n",
            "|3         |1.21026e+18|1.339821457E9|A year of resistance, as youth protests shaped climate change discussions HOW ACTIVE WILL THIS YOUTH VOTE BE IN 2020 https://www.channelnewsasia.com/news/commentary/climate-action-protests-2019-2020-greta-thunberg-time-person-12205688 #greta #gretathunberg #climatechange #fridaysforfuture #kickass #climatestrike #climate #thwave #chloegracemoretz #love #bhfyp .|1       |https://twitter.com/EnergyHouseVA/status/1210257324989923335  |2019-12-26 17:53:26+00:00|Thu Dec 26 17:53:26 +0000 2019|2        |null               |#greta #gretathunberg #climatechange #fridaysforfuture #kickass #climatestrike #climate #thwave #chloegracemoretz #love #bhfyp|null|https://www.channelnewsasia.com/news/commentary/climate-action-protests-2019-2020-greta-thunberg-time-person-12205688|#climatestrike |California, USA|[a, year, of, resistance,, as, youth, protests, shaped, climate, change, discussions, how, active, will, this, youth, vote, be, in, 2020, https://www.channelnewsasia.com/news/commentary/climate-action-protests-2019-2020-greta-thunberg-time-person-12205688, #greta, #gretathunberg, #climatechange, #fridaysforfuture, #kickass, #climatestrike, #climate, #thwave, #chloegracemoretz, #love, #bhfyp, .]|[year, resistance,, youth, protests, shaped, climate, change, discussions, active, youth, vote, 2020, https://www.channelnewsasia.com/news/commentary/climate-action-protests-2019-2020-greta-thunberg-time-person-12205688, #greta, #gretathunberg, #climatechange, #fridaysforfuture, #kickass, #climatestrike, #climate, #thwave, #chloegracemoretz, #love, #bhfyp, .]|(138575,[3010,14812,19945,24919,30100,36066,38626,42908,44124,49800,52146,58124,63848,66301,68607,83349,87072,88853,95509,103183,105552,107396,114364,119579],[1.0,1.0,1.0,1.0,1.0,1.0,1.0,1.0,1.0,1.0,1.0,1.0,1.0,1.0,1.0,1.0,2.0,1.0,1.0,1.0,1.0,1.0,1.0,1.0])                                                                                  |(138575,[3010,14812,19945,24919,30100,36066,38626,42908,44124,49800,52146,58124,63848,66301,68607,83349,87072,88853,95509,103183,105552,107396,114364,119579],[5.7783983960131735,3.0784163695604736,8.245605468701772,6.913378328852158,8.625095090406676,7.693536886401733,6.899585006719822,6.724136329213629,4.736419448975521,1.237766731162653,2.1853761462942356,3.891599346360066,8.245605468701772,4.0061737328057605,2.4920308257842883,1.2360539131589783,8.029109468487983,3.779697350047189,8.887459354874167,8.14552201014479,6.299695319646459,6.102448112635829,5.3011664895353325,5.7262126428426035])                                                                                                                                                                                |\n",
            "+----------+-----------+-------------+---------------------------------------------------------------------------------------------------------------------------------------------------------------------------------------------------------------------------------------------------------------------------------------------------------------------------------------------------------------------------+--------+--------------------------------------------------------------+-------------------------+------------------------------+---------+-------------------+------------------------------------------------------------------------------------------------------------------------------+----+---------------------------------------------------------------------------------------------------------------------+---------------+---------------+-------------------------------------------------------------------------------------------------------------------------------------------------------------------------------------------------------------------------------------------------------------------------------------------------------------------------------------------------------------------------------------------------------------+-------------------------------------------------------------------------------------------------------------------------------------------------------------------------------------------------------------------------------------------------------------------------------------------------------------------------------------------------------------------------+--------------------------------------------------------------------------------------------------------------------------------------------------------------------------------------------------------------------------------------------------------------------------------------------------------------------------------------------------+-------------------------------------------------------------------------------------------------------------------------------------------------------------------------------------------------------------------------------------------------------------------------------------------------------------------------------------------------------------------------------------------------------------------------------------------------------------------------------------------------------------------------------------------------------------------------------------------------------------------------------------------------------------------------------------------------------------------------------------------------------------------------------------------------------+\n",
            "only showing top 4 rows\n",
            "\n"
          ]
        }
      ]
    }
  ]
}