{
  "cells": [
    {
      "cell_type": "code",
      "execution_count": 4,
      "metadata": {
        "id": "BIYOpSYZw2HH",
        "outputId": "a68aaa59-be2f-4ac4-cb52-5bbdfb2c93a3",
        "colab": {
          "base_uri": "https://localhost:8080/"
        }
      },
      "outputs": [
        {
          "output_type": "stream",
          "name": "stdout",
          "text": [
            "Drive already mounted at /content/gdrive; to attempt to forcibly remount, call drive.mount(\"/content/gdrive\", force_remount=True).\n"
          ]
        }
      ],
      "source": [
        "#configuración en google colab de spark y pyspark\n",
        "from google.colab import drive\n",
        "drive.mount('/content/gdrive')"
      ]
    },
    {
      "cell_type": "code",
      "execution_count": 5,
      "metadata": {
        "id": "OBNA7S8Zw2HI"
      },
      "outputs": [],
      "source": [
        "path_in=\"gdrive/MyDrive/st1800-231/datasets/trabajo2/\"\n",
        "path_out=\"gdrive/MyDrive/st1800-231/\"\n",
        "filename='twitterClimateData.csv.zip'"
      ]
    },
    {
      "cell_type": "code",
      "source": [
        "!git clone 'https://github.com/st1800eafit/st1800-231.git'"
      ],
      "metadata": {
        "id": "F53F3ydAxTTi",
        "colab": {
          "base_uri": "https://localhost:8080/"
        },
        "outputId": "ee820ec8-71e9-45a0-87f2-58aa688d8dcb"
      },
      "execution_count": 6,
      "outputs": [
        {
          "output_type": "stream",
          "name": "stdout",
          "text": [
            "Cloning into 'st1800-231'...\n",
            "remote: Enumerating objects: 127, done.\u001b[K\n",
            "remote: Counting objects: 100% (45/45), done.\u001b[K\n",
            "remote: Compressing objects: 100% (36/36), done.\u001b[K\n",
            "remote: Total 127 (delta 13), reused 36 (delta 9), pack-reused 82\u001b[K\n",
            "Receiving objects: 100% (127/127), 88.34 MiB | 20.77 MiB/s, done.\n",
            "Resolving deltas: 100% (13/13), done.\n",
            "Updating files: 100% (86/86), done.\n"
          ]
        }
      ]
    },
    {
      "cell_type": "code",
      "execution_count": 7,
      "metadata": {
        "id": "ewCbBt6Hw2HJ",
        "outputId": "6283ba14-246f-4ca6-824c-d4f1fbb5eddb",
        "colab": {
          "base_uri": "https://localhost:8080/",
          "height": 557
        }
      },
      "outputs": [
        {
          "output_type": "execute_result",
          "data": {
            "text/plain": [
              "   Unnamed: 0           id     author_id  \\\n",
              "0           0  1.21181e+18  7.590000e+17   \n",
              "1           1  1.21067e+18  2.219547e+07   \n",
              "2           2  1.21059e+18  1.070000e+18   \n",
              "3           3  1.21026e+18  1.339821e+09   \n",
              "4           4  1.20964e+18  1.339821e+09   \n",
              "\n",
              "                                                text  retweets  \\\n",
              "0  2020 is the year we #votethemout, the year we ...        15   \n",
              "1  Winter has not stopped this group of dedicated...         9   \n",
              "2  WEEK 55 of #ClimateStrike at the @UN. Next wee...       545   \n",
              "3  A year of resistance, as youth protests shaped...         1   \n",
              "4   HAPPY HOLIDAYS #greta #gretathunberg #climate...         1   \n",
              "\n",
              "                                           permalink  \\\n",
              "0  https://twitter.com/Sphiamia/status/1211807074...   \n",
              "1  https://twitter.com/StephDujarric/status/12106...   \n",
              "2  https://twitter.com/AlexandriaV2005/status/121...   \n",
              "3  https://twitter.com/EnergyHouseVA/status/12102...   \n",
              "4  https://twitter.com/EnergyHouseVA/status/12096...   \n",
              "\n",
              "                        date                  formatted_date  favorites  \\\n",
              "0  2019-12-31 00:31:35+00:00  Tue Dec 31 00:31:35 +0000 2019         46   \n",
              "1  2019-12-27 20:56:21+00:00  Fri Dec 27 20:56:21 +0000 2019         35   \n",
              "2  2019-12-27 15:50:22+00:00  Fri Dec 27 15:50:22 +0000 2019       3283   \n",
              "3  2019-12-26 17:53:26+00:00  Thu Dec 26 17:53:26 +0000 2019          2   \n",
              "4  2019-12-25 00:56:37+00:00  Wed Dec 25 00:56:37 +0000 2019          4   \n",
              "\n",
              "              mentions                                           hashtags  \\\n",
              "0                  NaN          #votethemout #climatestrike #rebelforlife   \n",
              "1                  NaN       #climatefriday #climatestrike #ClimateAction   \n",
              "2  @UN @Fridays4future                                     #ClimateStrike   \n",
              "3                  NaN  #greta #gretathunberg #climatechange #fridaysf...   \n",
              "4                  NaN  #greta #gretathunberg #climatechange #fridaysf...   \n",
              "\n",
              "   geo                                               urls search_hashtags  \\\n",
              "0  NaN                                                NaN  #climatestrike   \n",
              "1  NaN                                                NaN  #climatestrike   \n",
              "2  NaN                                                NaN  #climatestrike   \n",
              "3  NaN  https://www.channelnewsasia.com/news/commentar...  #climatestrike   \n",
              "4  NaN  http://www.energyhouse.us,http://www.pacenowfo...  #climatestrike   \n",
              "\n",
              "          location  \n",
              "0  California, USA  \n",
              "1  California, USA  \n",
              "2  California, USA  \n",
              "3  California, USA  \n",
              "4  California, USA  "
            ],
            "text/html": [
              "\n",
              "  <div id=\"df-2342439e-5dc9-47c6-a3ac-d3c2178788a7\">\n",
              "    <div class=\"colab-df-container\">\n",
              "      <div>\n",
              "<style scoped>\n",
              "    .dataframe tbody tr th:only-of-type {\n",
              "        vertical-align: middle;\n",
              "    }\n",
              "\n",
              "    .dataframe tbody tr th {\n",
              "        vertical-align: top;\n",
              "    }\n",
              "\n",
              "    .dataframe thead th {\n",
              "        text-align: right;\n",
              "    }\n",
              "</style>\n",
              "<table border=\"1\" class=\"dataframe\">\n",
              "  <thead>\n",
              "    <tr style=\"text-align: right;\">\n",
              "      <th></th>\n",
              "      <th>Unnamed: 0</th>\n",
              "      <th>id</th>\n",
              "      <th>author_id</th>\n",
              "      <th>text</th>\n",
              "      <th>retweets</th>\n",
              "      <th>permalink</th>\n",
              "      <th>date</th>\n",
              "      <th>formatted_date</th>\n",
              "      <th>favorites</th>\n",
              "      <th>mentions</th>\n",
              "      <th>hashtags</th>\n",
              "      <th>geo</th>\n",
              "      <th>urls</th>\n",
              "      <th>search_hashtags</th>\n",
              "      <th>location</th>\n",
              "    </tr>\n",
              "  </thead>\n",
              "  <tbody>\n",
              "    <tr>\n",
              "      <th>0</th>\n",
              "      <td>0</td>\n",
              "      <td>1.21181e+18</td>\n",
              "      <td>7.590000e+17</td>\n",
              "      <td>2020 is the year we #votethemout, the year we ...</td>\n",
              "      <td>15</td>\n",
              "      <td>https://twitter.com/Sphiamia/status/1211807074...</td>\n",
              "      <td>2019-12-31 00:31:35+00:00</td>\n",
              "      <td>Tue Dec 31 00:31:35 +0000 2019</td>\n",
              "      <td>46</td>\n",
              "      <td>NaN</td>\n",
              "      <td>#votethemout #climatestrike #rebelforlife</td>\n",
              "      <td>NaN</td>\n",
              "      <td>NaN</td>\n",
              "      <td>#climatestrike</td>\n",
              "      <td>California, USA</td>\n",
              "    </tr>\n",
              "    <tr>\n",
              "      <th>1</th>\n",
              "      <td>1</td>\n",
              "      <td>1.21067e+18</td>\n",
              "      <td>2.219547e+07</td>\n",
              "      <td>Winter has not stopped this group of dedicated...</td>\n",
              "      <td>9</td>\n",
              "      <td>https://twitter.com/StephDujarric/status/12106...</td>\n",
              "      <td>2019-12-27 20:56:21+00:00</td>\n",
              "      <td>Fri Dec 27 20:56:21 +0000 2019</td>\n",
              "      <td>35</td>\n",
              "      <td>NaN</td>\n",
              "      <td>#climatefriday #climatestrike #ClimateAction</td>\n",
              "      <td>NaN</td>\n",
              "      <td>NaN</td>\n",
              "      <td>#climatestrike</td>\n",
              "      <td>California, USA</td>\n",
              "    </tr>\n",
              "    <tr>\n",
              "      <th>2</th>\n",
              "      <td>2</td>\n",
              "      <td>1.21059e+18</td>\n",
              "      <td>1.070000e+18</td>\n",
              "      <td>WEEK 55 of #ClimateStrike at the @UN. Next wee...</td>\n",
              "      <td>545</td>\n",
              "      <td>https://twitter.com/AlexandriaV2005/status/121...</td>\n",
              "      <td>2019-12-27 15:50:22+00:00</td>\n",
              "      <td>Fri Dec 27 15:50:22 +0000 2019</td>\n",
              "      <td>3283</td>\n",
              "      <td>@UN @Fridays4future</td>\n",
              "      <td>#ClimateStrike</td>\n",
              "      <td>NaN</td>\n",
              "      <td>NaN</td>\n",
              "      <td>#climatestrike</td>\n",
              "      <td>California, USA</td>\n",
              "    </tr>\n",
              "    <tr>\n",
              "      <th>3</th>\n",
              "      <td>3</td>\n",
              "      <td>1.21026e+18</td>\n",
              "      <td>1.339821e+09</td>\n",
              "      <td>A year of resistance, as youth protests shaped...</td>\n",
              "      <td>1</td>\n",
              "      <td>https://twitter.com/EnergyHouseVA/status/12102...</td>\n",
              "      <td>2019-12-26 17:53:26+00:00</td>\n",
              "      <td>Thu Dec 26 17:53:26 +0000 2019</td>\n",
              "      <td>2</td>\n",
              "      <td>NaN</td>\n",
              "      <td>#greta #gretathunberg #climatechange #fridaysf...</td>\n",
              "      <td>NaN</td>\n",
              "      <td>https://www.channelnewsasia.com/news/commentar...</td>\n",
              "      <td>#climatestrike</td>\n",
              "      <td>California, USA</td>\n",
              "    </tr>\n",
              "    <tr>\n",
              "      <th>4</th>\n",
              "      <td>4</td>\n",
              "      <td>1.20964e+18</td>\n",
              "      <td>1.339821e+09</td>\n",
              "      <td>HAPPY HOLIDAYS #greta #gretathunberg #climate...</td>\n",
              "      <td>1</td>\n",
              "      <td>https://twitter.com/EnergyHouseVA/status/12096...</td>\n",
              "      <td>2019-12-25 00:56:37+00:00</td>\n",
              "      <td>Wed Dec 25 00:56:37 +0000 2019</td>\n",
              "      <td>4</td>\n",
              "      <td>NaN</td>\n",
              "      <td>#greta #gretathunberg #climatechange #fridaysf...</td>\n",
              "      <td>NaN</td>\n",
              "      <td>http://www.energyhouse.us,http://www.pacenowfo...</td>\n",
              "      <td>#climatestrike</td>\n",
              "      <td>California, USA</td>\n",
              "    </tr>\n",
              "  </tbody>\n",
              "</table>\n",
              "</div>\n",
              "      <button class=\"colab-df-convert\" onclick=\"convertToInteractive('df-2342439e-5dc9-47c6-a3ac-d3c2178788a7')\"\n",
              "              title=\"Convert this dataframe to an interactive table.\"\n",
              "              style=\"display:none;\">\n",
              "        \n",
              "  <svg xmlns=\"http://www.w3.org/2000/svg\" height=\"24px\"viewBox=\"0 0 24 24\"\n",
              "       width=\"24px\">\n",
              "    <path d=\"M0 0h24v24H0V0z\" fill=\"none\"/>\n",
              "    <path d=\"M18.56 5.44l.94 2.06.94-2.06 2.06-.94-2.06-.94-.94-2.06-.94 2.06-2.06.94zm-11 1L8.5 8.5l.94-2.06 2.06-.94-2.06-.94L8.5 2.5l-.94 2.06-2.06.94zm10 10l.94 2.06.94-2.06 2.06-.94-2.06-.94-.94-2.06-.94 2.06-2.06.94z\"/><path d=\"M17.41 7.96l-1.37-1.37c-.4-.4-.92-.59-1.43-.59-.52 0-1.04.2-1.43.59L10.3 9.45l-7.72 7.72c-.78.78-.78 2.05 0 2.83L4 21.41c.39.39.9.59 1.41.59.51 0 1.02-.2 1.41-.59l7.78-7.78 2.81-2.81c.8-.78.8-2.07 0-2.86zM5.41 20L4 18.59l7.72-7.72 1.47 1.35L5.41 20z\"/>\n",
              "  </svg>\n",
              "      </button>\n",
              "      \n",
              "  <style>\n",
              "    .colab-df-container {\n",
              "      display:flex;\n",
              "      flex-wrap:wrap;\n",
              "      gap: 12px;\n",
              "    }\n",
              "\n",
              "    .colab-df-convert {\n",
              "      background-color: #E8F0FE;\n",
              "      border: none;\n",
              "      border-radius: 50%;\n",
              "      cursor: pointer;\n",
              "      display: none;\n",
              "      fill: #1967D2;\n",
              "      height: 32px;\n",
              "      padding: 0 0 0 0;\n",
              "      width: 32px;\n",
              "    }\n",
              "\n",
              "    .colab-df-convert:hover {\n",
              "      background-color: #E2EBFA;\n",
              "      box-shadow: 0px 1px 2px rgba(60, 64, 67, 0.3), 0px 1px 3px 1px rgba(60, 64, 67, 0.15);\n",
              "      fill: #174EA6;\n",
              "    }\n",
              "\n",
              "    [theme=dark] .colab-df-convert {\n",
              "      background-color: #3B4455;\n",
              "      fill: #D2E3FC;\n",
              "    }\n",
              "\n",
              "    [theme=dark] .colab-df-convert:hover {\n",
              "      background-color: #434B5C;\n",
              "      box-shadow: 0px 1px 3px 1px rgba(0, 0, 0, 0.15);\n",
              "      filter: drop-shadow(0px 1px 2px rgba(0, 0, 0, 0.3));\n",
              "      fill: #FFFFFF;\n",
              "    }\n",
              "  </style>\n",
              "\n",
              "      <script>\n",
              "        const buttonEl =\n",
              "          document.querySelector('#df-2342439e-5dc9-47c6-a3ac-d3c2178788a7 button.colab-df-convert');\n",
              "        buttonEl.style.display =\n",
              "          google.colab.kernel.accessAllowed ? 'block' : 'none';\n",
              "\n",
              "        async function convertToInteractive(key) {\n",
              "          const element = document.querySelector('#df-2342439e-5dc9-47c6-a3ac-d3c2178788a7');\n",
              "          const dataTable =\n",
              "            await google.colab.kernel.invokeFunction('convertToInteractive',\n",
              "                                                     [key], {});\n",
              "          if (!dataTable) return;\n",
              "\n",
              "          const docLinkHtml = 'Like what you see? Visit the ' +\n",
              "            '<a target=\"_blank\" href=https://colab.research.google.com/notebooks/data_table.ipynb>data table notebook</a>'\n",
              "            + ' to learn more about interactive tables.';\n",
              "          element.innerHTML = '';\n",
              "          dataTable['output_type'] = 'display_data';\n",
              "          await google.colab.output.renderOutput(dataTable, element);\n",
              "          const docLink = document.createElement('div');\n",
              "          docLink.innerHTML = docLinkHtml;\n",
              "          element.appendChild(docLink);\n",
              "        }\n",
              "      </script>\n",
              "    </div>\n",
              "  </div>\n",
              "  "
            ]
          },
          "metadata": {},
          "execution_count": 7
        }
      ],
      "source": [
        "#exploración de datos:\n",
        "import pandas as pd\n",
        "from zipfile import ZipFile\n",
        "zip_file = ZipFile(path_in+filename)\n",
        "df = pd.read_csv(zip_file.open('twitterClimateData.csv'),delimiter=';')\n",
        "df.head()"
      ]
    },
    {
      "cell_type": "code",
      "source": [
        "df = df[pd.notnull(df['text'])]"
      ],
      "metadata": {
        "id": "vlY_Ebc-xoR0"
      },
      "execution_count": 8,
      "outputs": []
    },
    {
      "cell_type": "code",
      "execution_count": 9,
      "metadata": {
        "id": "mKePnTTHw2HM",
        "outputId": "2cbdc202-6a8a-475c-818a-a2d38c501d66",
        "colab": {
          "base_uri": "https://localhost:8080/"
        }
      },
      "outputs": [
        {
          "output_type": "execute_result",
          "data": {
            "text/plain": [
              "Unnamed: 0         72405\n",
              "id                 72405\n",
              "author_id          72405\n",
              "text               72405\n",
              "retweets           72405\n",
              "permalink          72405\n",
              "date               72405\n",
              "formatted_date     72405\n",
              "favorites          72405\n",
              "mentions           27554\n",
              "hashtags           72402\n",
              "geo                    0\n",
              "urls               33349\n",
              "search_hashtags    72405\n",
              "location           72405\n",
              "dtype: int64"
            ]
          },
          "metadata": {},
          "execution_count": 9
        }
      ],
      "source": [
        "df.count()"
      ]
    },
    {
      "cell_type": "code",
      "execution_count": 10,
      "metadata": {
        "id": "2wLSjNQQw2HO",
        "outputId": "ac0670bc-6ceb-48b8-828d-f2520a315538",
        "colab": {
          "base_uri": "https://localhost:8080/",
          "height": 204
        }
      },
      "outputs": [
        {
          "output_type": "execute_result",
          "data": {
            "text/plain": [
              "  search_hashtags                                               text  \\\n",
              "0  #climatestrike  2020 is the year we #votethemout, the year we ...   \n",
              "1  #climatestrike  Winter has not stopped this group of dedicated...   \n",
              "2  #climatestrike  WEEK 55 of #ClimateStrike at the @UN. Next wee...   \n",
              "3  #climatestrike  A year of resistance, as youth protests shaped...   \n",
              "4  #climatestrike   HAPPY HOLIDAYS #greta #gretathunberg #climate...   \n",
              "\n",
              "   category_id  \n",
              "0            0  \n",
              "1            0  \n",
              "2            0  \n",
              "3            0  \n",
              "4            0  "
            ],
            "text/html": [
              "\n",
              "  <div id=\"df-2a7d681a-d589-4844-95c7-5d12f42daf59\">\n",
              "    <div class=\"colab-df-container\">\n",
              "      <div>\n",
              "<style scoped>\n",
              "    .dataframe tbody tr th:only-of-type {\n",
              "        vertical-align: middle;\n",
              "    }\n",
              "\n",
              "    .dataframe tbody tr th {\n",
              "        vertical-align: top;\n",
              "    }\n",
              "\n",
              "    .dataframe thead th {\n",
              "        text-align: right;\n",
              "    }\n",
              "</style>\n",
              "<table border=\"1\" class=\"dataframe\">\n",
              "  <thead>\n",
              "    <tr style=\"text-align: right;\">\n",
              "      <th></th>\n",
              "      <th>search_hashtags</th>\n",
              "      <th>text</th>\n",
              "      <th>category_id</th>\n",
              "    </tr>\n",
              "  </thead>\n",
              "  <tbody>\n",
              "    <tr>\n",
              "      <th>0</th>\n",
              "      <td>#climatestrike</td>\n",
              "      <td>2020 is the year we #votethemout, the year we ...</td>\n",
              "      <td>0</td>\n",
              "    </tr>\n",
              "    <tr>\n",
              "      <th>1</th>\n",
              "      <td>#climatestrike</td>\n",
              "      <td>Winter has not stopped this group of dedicated...</td>\n",
              "      <td>0</td>\n",
              "    </tr>\n",
              "    <tr>\n",
              "      <th>2</th>\n",
              "      <td>#climatestrike</td>\n",
              "      <td>WEEK 55 of #ClimateStrike at the @UN. Next wee...</td>\n",
              "      <td>0</td>\n",
              "    </tr>\n",
              "    <tr>\n",
              "      <th>3</th>\n",
              "      <td>#climatestrike</td>\n",
              "      <td>A year of resistance, as youth protests shaped...</td>\n",
              "      <td>0</td>\n",
              "    </tr>\n",
              "    <tr>\n",
              "      <th>4</th>\n",
              "      <td>#climatestrike</td>\n",
              "      <td>HAPPY HOLIDAYS #greta #gretathunberg #climate...</td>\n",
              "      <td>0</td>\n",
              "    </tr>\n",
              "  </tbody>\n",
              "</table>\n",
              "</div>\n",
              "      <button class=\"colab-df-convert\" onclick=\"convertToInteractive('df-2a7d681a-d589-4844-95c7-5d12f42daf59')\"\n",
              "              title=\"Convert this dataframe to an interactive table.\"\n",
              "              style=\"display:none;\">\n",
              "        \n",
              "  <svg xmlns=\"http://www.w3.org/2000/svg\" height=\"24px\"viewBox=\"0 0 24 24\"\n",
              "       width=\"24px\">\n",
              "    <path d=\"M0 0h24v24H0V0z\" fill=\"none\"/>\n",
              "    <path d=\"M18.56 5.44l.94 2.06.94-2.06 2.06-.94-2.06-.94-.94-2.06-.94 2.06-2.06.94zm-11 1L8.5 8.5l.94-2.06 2.06-.94-2.06-.94L8.5 2.5l-.94 2.06-2.06.94zm10 10l.94 2.06.94-2.06 2.06-.94-2.06-.94-.94-2.06-.94 2.06-2.06.94z\"/><path d=\"M17.41 7.96l-1.37-1.37c-.4-.4-.92-.59-1.43-.59-.52 0-1.04.2-1.43.59L10.3 9.45l-7.72 7.72c-.78.78-.78 2.05 0 2.83L4 21.41c.39.39.9.59 1.41.59.51 0 1.02-.2 1.41-.59l7.78-7.78 2.81-2.81c.8-.78.8-2.07 0-2.86zM5.41 20L4 18.59l7.72-7.72 1.47 1.35L5.41 20z\"/>\n",
              "  </svg>\n",
              "      </button>\n",
              "      \n",
              "  <style>\n",
              "    .colab-df-container {\n",
              "      display:flex;\n",
              "      flex-wrap:wrap;\n",
              "      gap: 12px;\n",
              "    }\n",
              "\n",
              "    .colab-df-convert {\n",
              "      background-color: #E8F0FE;\n",
              "      border: none;\n",
              "      border-radius: 50%;\n",
              "      cursor: pointer;\n",
              "      display: none;\n",
              "      fill: #1967D2;\n",
              "      height: 32px;\n",
              "      padding: 0 0 0 0;\n",
              "      width: 32px;\n",
              "    }\n",
              "\n",
              "    .colab-df-convert:hover {\n",
              "      background-color: #E2EBFA;\n",
              "      box-shadow: 0px 1px 2px rgba(60, 64, 67, 0.3), 0px 1px 3px 1px rgba(60, 64, 67, 0.15);\n",
              "      fill: #174EA6;\n",
              "    }\n",
              "\n",
              "    [theme=dark] .colab-df-convert {\n",
              "      background-color: #3B4455;\n",
              "      fill: #D2E3FC;\n",
              "    }\n",
              "\n",
              "    [theme=dark] .colab-df-convert:hover {\n",
              "      background-color: #434B5C;\n",
              "      box-shadow: 0px 1px 3px 1px rgba(0, 0, 0, 0.15);\n",
              "      filter: drop-shadow(0px 1px 2px rgba(0, 0, 0, 0.3));\n",
              "      fill: #FFFFFF;\n",
              "    }\n",
              "  </style>\n",
              "\n",
              "      <script>\n",
              "        const buttonEl =\n",
              "          document.querySelector('#df-2a7d681a-d589-4844-95c7-5d12f42daf59 button.colab-df-convert');\n",
              "        buttonEl.style.display =\n",
              "          google.colab.kernel.accessAllowed ? 'block' : 'none';\n",
              "\n",
              "        async function convertToInteractive(key) {\n",
              "          const element = document.querySelector('#df-2a7d681a-d589-4844-95c7-5d12f42daf59');\n",
              "          const dataTable =\n",
              "            await google.colab.kernel.invokeFunction('convertToInteractive',\n",
              "                                                     [key], {});\n",
              "          if (!dataTable) return;\n",
              "\n",
              "          const docLinkHtml = 'Like what you see? Visit the ' +\n",
              "            '<a target=\"_blank\" href=https://colab.research.google.com/notebooks/data_table.ipynb>data table notebook</a>'\n",
              "            + ' to learn more about interactive tables.';\n",
              "          element.innerHTML = '';\n",
              "          dataTable['output_type'] = 'display_data';\n",
              "          await google.colab.output.renderOutput(dataTable, element);\n",
              "          const docLink = document.createElement('div');\n",
              "          docLink.innerHTML = docLinkHtml;\n",
              "          element.appendChild(docLink);\n",
              "        }\n",
              "      </script>\n",
              "    </div>\n",
              "  </div>\n",
              "  "
            ]
          },
          "metadata": {},
          "execution_count": 10
        }
      ],
      "source": [
        "from io import StringIO\n",
        "col = ['search_hashtags', 'text']\n",
        "df2 = df[col]\n",
        "df2 = df2[pd.notnull(df['text'])]\n",
        "df2.columns = ['search_hashtags', 'text']\n",
        "df2['category_id'] = df2['search_hashtags'].factorize()[0]\n",
        "category_id_df2 = df2[['search_hashtags','category_id']].drop_duplicates().sort_values('category_id')\n",
        "category_to_id2 = dict(category_id_df2.values)\n",
        "id_to_category = dict(category_id_df2[['category_id', 'search_hashtags']].values)\n",
        "df2.head()"
      ]
    },
    {
      "cell_type": "code",
      "execution_count": 11,
      "metadata": {
        "id": "LucEltmrw2HP",
        "outputId": "63420e69-836f-4767-d217-a1a85ae275b8",
        "colab": {
          "base_uri": "https://localhost:8080/",
          "height": 419
        }
      },
      "outputs": [
        {
          "output_type": "execute_result",
          "data": {
            "text/plain": [
              "      search_hashtags                                               text  \\\n",
              "0      #climatestrike  2020 is the year we #votethemout, the year we ...   \n",
              "1      #climatestrike  Winter has not stopped this group of dedicated...   \n",
              "2      #climatestrike  WEEK 55 of #ClimateStrike at the @UN. Next wee...   \n",
              "3      #climatestrike  A year of resistance, as youth protests shaped...   \n",
              "4      #climatestrike   HAPPY HOLIDAYS #greta #gretathunberg #climate...   \n",
              "...               ...                                                ...   \n",
              "72400  #savetheplanet  No more straws at LBM... only if YOU ask for i...   \n",
              "72401  #savetheplanet  My #Trumps may not believe in #climatechange b...   \n",
              "72402  #savetheplanet  Time is over. Act now!!! #Friday4Future #Clima...   \n",
              "72403  #savetheplanet  This is my first contribution on visualizing t...   \n",
              "72404  #savetheplanet  \"This assault on science is an outrage and sho...   \n",
              "\n",
              "       category_id  \n",
              "0                0  \n",
              "1                0  \n",
              "2                0  \n",
              "3                0  \n",
              "4                0  \n",
              "...            ...  \n",
              "72400           10  \n",
              "72401           10  \n",
              "72402           10  \n",
              "72403           10  \n",
              "72404           10  \n",
              "\n",
              "[72405 rows x 3 columns]"
            ],
            "text/html": [
              "\n",
              "  <div id=\"df-7fa4f445-47d1-4523-84af-d747653df52d\">\n",
              "    <div class=\"colab-df-container\">\n",
              "      <div>\n",
              "<style scoped>\n",
              "    .dataframe tbody tr th:only-of-type {\n",
              "        vertical-align: middle;\n",
              "    }\n",
              "\n",
              "    .dataframe tbody tr th {\n",
              "        vertical-align: top;\n",
              "    }\n",
              "\n",
              "    .dataframe thead th {\n",
              "        text-align: right;\n",
              "    }\n",
              "</style>\n",
              "<table border=\"1\" class=\"dataframe\">\n",
              "  <thead>\n",
              "    <tr style=\"text-align: right;\">\n",
              "      <th></th>\n",
              "      <th>search_hashtags</th>\n",
              "      <th>text</th>\n",
              "      <th>category_id</th>\n",
              "    </tr>\n",
              "  </thead>\n",
              "  <tbody>\n",
              "    <tr>\n",
              "      <th>0</th>\n",
              "      <td>#climatestrike</td>\n",
              "      <td>2020 is the year we #votethemout, the year we ...</td>\n",
              "      <td>0</td>\n",
              "    </tr>\n",
              "    <tr>\n",
              "      <th>1</th>\n",
              "      <td>#climatestrike</td>\n",
              "      <td>Winter has not stopped this group of dedicated...</td>\n",
              "      <td>0</td>\n",
              "    </tr>\n",
              "    <tr>\n",
              "      <th>2</th>\n",
              "      <td>#climatestrike</td>\n",
              "      <td>WEEK 55 of #ClimateStrike at the @UN. Next wee...</td>\n",
              "      <td>0</td>\n",
              "    </tr>\n",
              "    <tr>\n",
              "      <th>3</th>\n",
              "      <td>#climatestrike</td>\n",
              "      <td>A year of resistance, as youth protests shaped...</td>\n",
              "      <td>0</td>\n",
              "    </tr>\n",
              "    <tr>\n",
              "      <th>4</th>\n",
              "      <td>#climatestrike</td>\n",
              "      <td>HAPPY HOLIDAYS #greta #gretathunberg #climate...</td>\n",
              "      <td>0</td>\n",
              "    </tr>\n",
              "    <tr>\n",
              "      <th>...</th>\n",
              "      <td>...</td>\n",
              "      <td>...</td>\n",
              "      <td>...</td>\n",
              "    </tr>\n",
              "    <tr>\n",
              "      <th>72400</th>\n",
              "      <td>#savetheplanet</td>\n",
              "      <td>No more straws at LBM... only if YOU ask for i...</td>\n",
              "      <td>10</td>\n",
              "    </tr>\n",
              "    <tr>\n",
              "      <th>72401</th>\n",
              "      <td>#savetheplanet</td>\n",
              "      <td>My #Trumps may not believe in #climatechange b...</td>\n",
              "      <td>10</td>\n",
              "    </tr>\n",
              "    <tr>\n",
              "      <th>72402</th>\n",
              "      <td>#savetheplanet</td>\n",
              "      <td>Time is over. Act now!!! #Friday4Future #Clima...</td>\n",
              "      <td>10</td>\n",
              "    </tr>\n",
              "    <tr>\n",
              "      <th>72403</th>\n",
              "      <td>#savetheplanet</td>\n",
              "      <td>This is my first contribution on visualizing t...</td>\n",
              "      <td>10</td>\n",
              "    </tr>\n",
              "    <tr>\n",
              "      <th>72404</th>\n",
              "      <td>#savetheplanet</td>\n",
              "      <td>\"This assault on science is an outrage and sho...</td>\n",
              "      <td>10</td>\n",
              "    </tr>\n",
              "  </tbody>\n",
              "</table>\n",
              "<p>72405 rows × 3 columns</p>\n",
              "</div>\n",
              "      <button class=\"colab-df-convert\" onclick=\"convertToInteractive('df-7fa4f445-47d1-4523-84af-d747653df52d')\"\n",
              "              title=\"Convert this dataframe to an interactive table.\"\n",
              "              style=\"display:none;\">\n",
              "        \n",
              "  <svg xmlns=\"http://www.w3.org/2000/svg\" height=\"24px\"viewBox=\"0 0 24 24\"\n",
              "       width=\"24px\">\n",
              "    <path d=\"M0 0h24v24H0V0z\" fill=\"none\"/>\n",
              "    <path d=\"M18.56 5.44l.94 2.06.94-2.06 2.06-.94-2.06-.94-.94-2.06-.94 2.06-2.06.94zm-11 1L8.5 8.5l.94-2.06 2.06-.94-2.06-.94L8.5 2.5l-.94 2.06-2.06.94zm10 10l.94 2.06.94-2.06 2.06-.94-2.06-.94-.94-2.06-.94 2.06-2.06.94z\"/><path d=\"M17.41 7.96l-1.37-1.37c-.4-.4-.92-.59-1.43-.59-.52 0-1.04.2-1.43.59L10.3 9.45l-7.72 7.72c-.78.78-.78 2.05 0 2.83L4 21.41c.39.39.9.59 1.41.59.51 0 1.02-.2 1.41-.59l7.78-7.78 2.81-2.81c.8-.78.8-2.07 0-2.86zM5.41 20L4 18.59l7.72-7.72 1.47 1.35L5.41 20z\"/>\n",
              "  </svg>\n",
              "      </button>\n",
              "      \n",
              "  <style>\n",
              "    .colab-df-container {\n",
              "      display:flex;\n",
              "      flex-wrap:wrap;\n",
              "      gap: 12px;\n",
              "    }\n",
              "\n",
              "    .colab-df-convert {\n",
              "      background-color: #E8F0FE;\n",
              "      border: none;\n",
              "      border-radius: 50%;\n",
              "      cursor: pointer;\n",
              "      display: none;\n",
              "      fill: #1967D2;\n",
              "      height: 32px;\n",
              "      padding: 0 0 0 0;\n",
              "      width: 32px;\n",
              "    }\n",
              "\n",
              "    .colab-df-convert:hover {\n",
              "      background-color: #E2EBFA;\n",
              "      box-shadow: 0px 1px 2px rgba(60, 64, 67, 0.3), 0px 1px 3px 1px rgba(60, 64, 67, 0.15);\n",
              "      fill: #174EA6;\n",
              "    }\n",
              "\n",
              "    [theme=dark] .colab-df-convert {\n",
              "      background-color: #3B4455;\n",
              "      fill: #D2E3FC;\n",
              "    }\n",
              "\n",
              "    [theme=dark] .colab-df-convert:hover {\n",
              "      background-color: #434B5C;\n",
              "      box-shadow: 0px 1px 3px 1px rgba(0, 0, 0, 0.15);\n",
              "      filter: drop-shadow(0px 1px 2px rgba(0, 0, 0, 0.3));\n",
              "      fill: #FFFFFF;\n",
              "    }\n",
              "  </style>\n",
              "\n",
              "      <script>\n",
              "        const buttonEl =\n",
              "          document.querySelector('#df-7fa4f445-47d1-4523-84af-d747653df52d button.colab-df-convert');\n",
              "        buttonEl.style.display =\n",
              "          google.colab.kernel.accessAllowed ? 'block' : 'none';\n",
              "\n",
              "        async function convertToInteractive(key) {\n",
              "          const element = document.querySelector('#df-7fa4f445-47d1-4523-84af-d747653df52d');\n",
              "          const dataTable =\n",
              "            await google.colab.kernel.invokeFunction('convertToInteractive',\n",
              "                                                     [key], {});\n",
              "          if (!dataTable) return;\n",
              "\n",
              "          const docLinkHtml = 'Like what you see? Visit the ' +\n",
              "            '<a target=\"_blank\" href=https://colab.research.google.com/notebooks/data_table.ipynb>data table notebook</a>'\n",
              "            + ' to learn more about interactive tables.';\n",
              "          element.innerHTML = '';\n",
              "          dataTable['output_type'] = 'display_data';\n",
              "          await google.colab.output.renderOutput(dataTable, element);\n",
              "          const docLink = document.createElement('div');\n",
              "          docLink.innerHTML = docLinkHtml;\n",
              "          element.appendChild(docLink);\n",
              "        }\n",
              "      </script>\n",
              "    </div>\n",
              "  </div>\n",
              "  "
            ]
          },
          "metadata": {},
          "execution_count": 11
        }
      ],
      "source": [
        "df2"
      ]
    },
    {
      "cell_type": "code",
      "execution_count": 12,
      "metadata": {
        "id": "Sgw42W81w2HP",
        "outputId": "3894f91b-7164-471c-d1ef-38ef8c8e3780",
        "colab": {
          "base_uri": "https://localhost:8080/",
          "height": 466
        }
      },
      "outputs": [
        {
          "output_type": "display_data",
          "data": {
            "text/plain": [
              "<Figure size 576x432 with 1 Axes>"
            ],
            "image/png": "[encoded data removed]"
          },
          "metadata": {
            "needs_background": "light"
          }
        }
      ],
      "source": [
        "import matplotlib.pyplot as plt\n",
        "fig = plt.figure(figsize=(8,6))\n",
        "df2.groupby('search_hashtags').text.count().plot.bar(ylim=0)\n",
        "plt.show()"
      ]
    },
    {
      "cell_type": "code",
      "execution_count": 13,
      "metadata": {
        "id": "yeNZMwffw2HQ",
        "outputId": "f9596ff8-5495-4df9-af9a-dda9b49404bd",
        "colab": {
          "base_uri": "https://localhost:8080/"
        }
      },
      "outputs": [
        {
          "output_type": "execute_result",
          "data": {
            "text/plain": [
              "search_hashtags\n",
              "#actonclimate         1895\n",
              "#bushfires             899\n",
              "#climateaction        6378\n",
              "#climatechange       16190\n",
              "#climatecrisis        4982\n",
              "#climatestrike       18355\n",
              "#environment          4703\n",
              "#fridaysforfuture     3038\n",
              "#globalwarming        4152\n",
              "#greennewdeal         4589\n",
              "#savetheplanet        1434\n",
              "#sustainability       5790\n",
              "Name: text, dtype: int64"
            ]
          },
          "metadata": {},
          "execution_count": 13
        }
      ],
      "source": [
        "# Cantidad de elementos por categoría\n",
        "df2.groupby('search_hashtags').text.count()"
      ]
    },
    {
      "cell_type": "code",
      "execution_count": 14,
      "metadata": {
        "id": "mRXXsLbsw2HQ",
        "outputId": "c32a4fc5-7f91-451e-80d9-b207f48ce019",
        "colab": {
          "base_uri": "https://localhost:8080/"
        }
      },
      "outputs": [
        {
          "output_type": "execute_result",
          "data": {
            "text/plain": [
              "(72405, 50906)"
            ]
          },
          "metadata": {},
          "execution_count": 14
        }
      ],
      "source": [
        "from sklearn.feature_extraction.text import TfidfVectorizer\n",
        "tfidf = TfidfVectorizer(sublinear_tf=True, min_df=5, norm='l2', encoding='latin-1', ngram_range=(1, 2), stop_words='english')\n",
        "features = tfidf.fit_transform(df2.text).toarray()\n",
        "labels = df2.category_id\n",
        "features.shape"
      ]
    },
    {
      "cell_type": "code",
      "execution_count": 15,
      "metadata": {
        "id": "XHzTz3WIw2HR",
        "outputId": "b69eaec6-8e99-4f7f-d1d1-9836b525c59c",
        "colab": {
          "base_uri": "https://localhost:8080/"
        }
      },
      "outputs": [
        {
          "output_type": "execute_result",
          "data": {
            "text/plain": [
              "array([[0., 0., 0., ..., 0., 0., 0.],\n",
              "       [0., 0., 0., ..., 0., 0., 0.],\n",
              "       [0., 0., 0., ..., 0., 0., 0.],\n",
              "       ...,\n",
              "       [0., 0., 0., ..., 0., 0., 0.],\n",
              "       [0., 0., 0., ..., 0., 0., 0.],\n",
              "       [0., 0., 0., ..., 0., 0., 0.]])"
            ]
          },
          "metadata": {},
          "execution_count": 15
        }
      ],
      "source": [
        "features"
      ]
    },
    {
      "cell_type": "code",
      "execution_count": 16,
      "metadata": {
        "id": "8Q0aD-u0w2HR",
        "outputId": "5f9d0fb9-714e-42a2-c7aa-03380859fa36",
        "colab": {
          "base_uri": "https://localhost:8080/"
        }
      },
      "outputs": [
        {
          "output_type": "stream",
          "name": "stdout",
          "text": [
            "# '#actonclimate':\n",
            "  . Most correlated unigrams:\n",
            ". allarecalled\n",
            ". actonclimate\n",
            "  . Most correlated bigrams:\n",
            ". actonclimate climateactionnow\n",
            ". allarecalled actonclimate\n",
            "# '#bushfires':\n",
            "  . Most correlated unigrams:\n",
            ". smoke\n",
            ". bushfires\n",
            "  . Most correlated bigrams:\n",
            ". bushfires auspol\n",
            ". auspol bushfires\n",
            "# '#climateaction':\n",
            "  . Most correlated unigrams:\n",
            ". sdgs\n",
            ". climateaction\n",
            "  . Most correlated bigrams:\n",
            ". united nations\n",
            ". climatechange climateaction\n",
            "# '#climatechange':\n",
            "  . Most correlated unigrams:\n",
            ". climatestrike\n",
            ". climatechange\n",
            "  . Most correlated bigrams:\n",
            ". auspol climatechange\n",
            ". climatechange real\n",
            "# '#climatecrisis':\n",
            "  . Most correlated unigrams:\n",
            ". climatestrike\n",
            ". climatecrisis\n",
            "  . Most correlated bigrams:\n",
            ". climateemergency climatecrisis\n",
            ". climatechange climatecrisis\n",
            "# '#climatestrike':\n",
            "  . Most correlated unigrams:\n",
            ". climatechange\n",
            ". climatestrike\n",
            "  . Most correlated bigrams:\n",
            ". city hall\n",
            ". today climatestrike\n",
            "# '#environment':\n",
            "  . Most correlated unigrams:\n",
            ". birchfabrics\n",
            ". environment\n",
            "  . Most correlated bigrams:\n",
            ". birchfabrics greenliving\n",
            ". organiccotton birchfabrics\n",
            "# '#fridaysforfuture':\n",
            "  . Most correlated unigrams:\n",
            ". fridaythoughts\n",
            ". fridaysforfuture\n",
            "  . Most correlated bigrams:\n",
            ". climatestrike fridaysforfuture\n",
            ". fridaymotivation fridaysforfuture\n",
            "# '#globalwarming':\n",
            "  . Most correlated unigrams:\n",
            ". warming\n",
            ". globalwarming\n",
            "  . Most correlated bigrams:\n",
            ". globalwarming climatechange\n",
            ". climatechange globalwarming\n",
            "# '#greennewdeal':\n",
            "  . Most correlated unigrams:\n",
            ". aoc\n",
            ". greennewdeal\n",
            "  . Most correlated bigrams:\n",
            ". greennewdeal possible\n",
            ". medicareforall greennewdeal\n",
            "# '#savetheplanet':\n",
            "  . Most correlated unigrams:\n",
            ". savetheearth\n",
            ". savetheplanet\n",
            "  . Most correlated bigrams:\n",
            ". savetheearth savetheplanet\n",
            ". savetheplanet plasticpollution\n",
            "# '#sustainability':\n",
            "  . Most correlated unigrams:\n",
            ". kahnlesrule\n",
            ". sustainability\n",
            "  . Most correlated bigrams:\n",
            ". modern sustainability\n",
            ". kahnlesrule feministdad\n"
          ]
        }
      ],
      "source": [
        "# Unigramas y Bigramas correlacionados a cada categoria\n",
        "from sklearn.feature_selection import chi2\n",
        "import numpy as np\n",
        "N = 2\n",
        "for search_hashtags, category_id in sorted(category_to_id2.items()):\n",
        "  features_chi2 = chi2(features, labels == category_id)\n",
        "  indices = np.argsort(features_chi2[0])\n",
        "  feature_names = np.array(tfidf.get_feature_names_out())[indices]\n",
        "  unigrams = [v for v in feature_names if len(v.split(' ')) == 1]\n",
        "  bigrams = [v for v in feature_names if len(v.split(' ')) == 2]\n",
        "  print(\"# '{}':\".format(search_hashtags))\n",
        "  print(\"  . Most correlated unigrams:\\n. {}\".format('\\n. '.join(unigrams[-N:])))\n",
        "  print(\"  . Most correlated bigrams:\\n. {}\".format('\\n. '.join(bigrams[-N:])))"
      ]
    },
    {
      "cell_type": "code",
      "execution_count": 17,
      "metadata": {
        "id": "b8SDQCZRw2HS"
      },
      "outputs": [],
      "source": [
        "# Naive Bayes Classifier\n",
        "from sklearn.model_selection import train_test_split\n",
        "\n",
        "from sklearn.feature_extraction.text import CountVectorizer\n",
        "\n",
        "from sklearn.feature_extraction.text import TfidfTransformer\n",
        "\n",
        "from sklearn.naive_bayes import MultinomialNB\n",
        "\n",
        "count_vect = CountVectorizer()\n",
        "\n",
        "X_train, X_test, y_train, y_test = train_test_split(df['text'], df['search_hashtags'], random_state = 0)"
      ]
    },
    {
      "cell_type": "code",
      "execution_count": 18,
      "metadata": {
        "id": "QCp_Si4Aw2HT",
        "outputId": "04c8616c-d7fb-40aa-b8bc-cd97eca9ec66",
        "colab": {
          "base_uri": "https://localhost:8080/"
        }
      },
      "outputs": [
        {
          "output_type": "execute_result",
          "data": {
            "text/plain": [
              "54303"
            ]
          },
          "metadata": {},
          "execution_count": 18
        }
      ],
      "source": [
        "X_train.count()"
      ]
    },
    {
      "cell_type": "code",
      "execution_count": 19,
      "metadata": {
        "id": "RATqGeFlw2HT",
        "outputId": "b421fa9c-1d95-49f8-ee1b-c07e0f4f6a65",
        "colab": {
          "base_uri": "https://localhost:8080/"
        }
      },
      "outputs": [
        {
          "output_type": "execute_result",
          "data": {
            "text/plain": [
              "49115    .@POLITICOEurope debate on #futureofeurope: Do...\n",
              "53552    Just some encouraging words for our ladies and...\n",
              "64221    Check out how @louiselassalle sees #Lifedesign...\n",
              "4141     Half of America led by #RadicalDems are #Chick...\n",
              "60129    A sneak peek at one of the insights that’s com...\n",
              "                               ...                        \n",
              "29788    Day 2 of our promotional campaign for #YouthCl...\n",
              "32137    Reviewing the #SDG13 = #ClimateAction on a FRI...\n",
              "67154          We need a #GreenNewDeal now! #ClimateCrisis\n",
              "29907    @ipinst/@NorwayUN event on #HR and #agenda2030...\n",
              "38049    #ClimateStrike #ClimateChange TODAY IS THE DAY...\n",
              "Name: text, Length: 18102, dtype: object"
            ]
          },
          "metadata": {},
          "execution_count": 19
        }
      ],
      "source": [
        "X_test"
      ]
    },
    {
      "cell_type": "code",
      "execution_count": 20,
      "metadata": {
        "id": "_PKn3HRLw2HU",
        "outputId": "2d0e3503-3413-41c3-ecdb-25c5bb90986e",
        "colab": {
          "base_uri": "https://localhost:8080/"
        }
      },
      "outputs": [
        {
          "output_type": "execute_result",
          "data": {
            "text/plain": [
              "54303"
            ]
          },
          "metadata": {},
          "execution_count": 20
        }
      ],
      "source": [
        "y_train.count()"
      ]
    },
    {
      "cell_type": "code",
      "execution_count": 21,
      "metadata": {
        "id": "v8XN_2k1w2HU",
        "outputId": "d17482ac-3dd7-4bcd-fc6f-7fb605d5e668",
        "colab": {
          "base_uri": "https://localhost:8080/"
        }
      },
      "outputs": [
        {
          "output_type": "execute_result",
          "data": {
            "text/plain": [
              "18102"
            ]
          },
          "metadata": {},
          "execution_count": 21
        }
      ],
      "source": [
        "y_test.count()"
      ]
    },
    {
      "cell_type": "code",
      "execution_count": 22,
      "metadata": {
        "id": "e61YyZy-w2HV"
      },
      "outputs": [],
      "source": [
        "#Term Frecuency - TF\n",
        "count_vect = CountVectorizer()\n",
        "X_train_counts = count_vect.fit_transform(X_train)"
      ]
    },
    {
      "cell_type": "code",
      "execution_count": 23,
      "metadata": {
        "id": "_uRJ4Athw2HW",
        "outputId": "b58fbe51-382e-44a2-cd8b-ecbe9997b22b",
        "colab": {
          "base_uri": "https://localhost:8080/"
        }
      },
      "outputs": [
        {
          "output_type": "stream",
          "name": "stdout",
          "text": [
            "  (0, 77918)\t1\n",
            "  (0, 53353)\t1\n",
            "  (0, 38780)\t1\n",
            "  (0, 80538)\t1\n",
            "  (0, 13008)\t1\n",
            "  (0, 45133)\t1\n",
            "  (0, 34779)\t1\n",
            "  (0, 59596)\t1\n",
            "  (0, 40132)\t1\n",
            "  (0, 49329)\t1\n",
            "  (0, 18268)\t1\n",
            "  (0, 18893)\t1\n",
            "  (0, 9212)\t1\n",
            "  (0, 59615)\t1\n",
            "  (0, 20738)\t1\n",
            "  (0, 67329)\t1\n",
            "  (0, 7957)\t1\n",
            "  (0, 14426)\t1\n",
            "  (0, 69535)\t1\n",
            "  (0, 32812)\t1\n",
            "  (0, 20198)\t1\n",
            "  (0, 18817)\t1\n",
            "  (0, 30941)\t1\n",
            "  (0, 52468)\t1\n",
            "  (0, 20366)\t1\n",
            "  :\t:\n",
            "  (54302, 75869)\t1\n",
            "  (54302, 18556)\t1\n",
            "  (54302, 78325)\t1\n",
            "  (54302, 52476)\t1\n",
            "  (54302, 33542)\t1\n",
            "  (54302, 37575)\t1\n",
            "  (54302, 46179)\t1\n",
            "  (54302, 63021)\t1\n",
            "  (54302, 20474)\t1\n",
            "  (54302, 63693)\t1\n",
            "  (54302, 29609)\t1\n",
            "  (54302, 66726)\t1\n",
            "  (54302, 18202)\t1\n",
            "  (54302, 80225)\t1\n",
            "  (54302, 53116)\t1\n",
            "  (54302, 52175)\t1\n",
            "  (54302, 21406)\t2\n",
            "  (54302, 37431)\t1\n",
            "  (54302, 13603)\t1\n",
            "  (54302, 14419)\t1\n",
            "  (54302, 30488)\t1\n",
            "  (54302, 4819)\t1\n",
            "  (54302, 56699)\t1\n",
            "  (54302, 53118)\t1\n",
            "  (54302, 36984)\t1\n"
          ]
        }
      ],
      "source": [
        "print(X_train_counts)"
      ]
    },
    {
      "cell_type": "code",
      "execution_count": 24,
      "metadata": {
        "id": "eZ8c7GbMw2HW"
      },
      "outputs": [],
      "source": [
        "tfidf_transformer = TfidfTransformer()\n",
        "\n",
        "X_train_tfidf = tfidf_transformer.fit_transform(X_train_counts)"
      ]
    },
    {
      "cell_type": "code",
      "execution_count": 25,
      "metadata": {
        "id": "Y2fyb7C2w2HX",
        "outputId": "c8c95806-2e30-423d-ae7d-d71916ad903d",
        "colab": {
          "base_uri": "https://localhost:8080/"
        }
      },
      "outputs": [
        {
          "output_type": "stream",
          "name": "stdout",
          "text": [
            "  (0, 80538)\t0.17486569459456727\n",
            "  (0, 77918)\t0.17834065855682216\n",
            "  (0, 69535)\t0.18358318727578357\n",
            "  (0, 67329)\t0.30678662440832644\n",
            "  (0, 59615)\t0.22452284278674334\n",
            "  (0, 59596)\t0.16350228020554292\n",
            "  (0, 53353)\t0.11839226571530885\n",
            "  (0, 52468)\t0.3220120940527195\n",
            "  (0, 49329)\t0.258816344648973\n",
            "  (0, 45133)\t0.33409722919110374\n",
            "  (0, 40132)\t0.07014664841328788\n",
            "  (0, 38780)\t0.08256077657351918\n",
            "  (0, 34779)\t0.23875882370047752\n",
            "  (0, 32812)\t0.07496976086193802\n",
            "  (0, 30941)\t0.16946716324705602\n",
            "  (0, 20738)\t0.2892672839377592\n",
            "  (0, 20407)\t0.12426279548175348\n",
            "  (0, 20366)\t0.09529413315353659\n",
            "  (0, 20287)\t0.06330807350433743\n",
            "  (0, 20198)\t0.08710489284276782\n",
            "  (0, 18893)\t0.2669961024158804\n",
            "  (0, 18817)\t0.10768960397038305\n",
            "  (0, 18268)\t0.22414792450202217\n",
            "  (0, 14426)\t0.22855677430417698\n",
            "  (0, 13008)\t0.09998681860227147\n",
            "  :\t:\n",
            "  (54302, 53118)\t0.24930396792561876\n",
            "  (54302, 53116)\t0.2068267667755867\n",
            "  (54302, 52476)\t0.1246029875609554\n",
            "  (54302, 52175)\t0.2068267667755867\n",
            "  (54302, 46179)\t0.12861937985176275\n",
            "  (54302, 40132)\t0.055793690165622876\n",
            "  (54302, 38779)\t0.1080324190578628\n",
            "  (54302, 37575)\t0.1514620865472534\n",
            "  (54302, 37431)\t0.21114905979255083\n",
            "  (54302, 36984)\t0.23603716911745737\n",
            "  (54302, 33542)\t0.08384952898124674\n",
            "  (54302, 30488)\t0.20999239247578153\n",
            "  (54302, 29609)\t0.16041455973134972\n",
            "  (54302, 21406)\t0.4156714531811044\n",
            "  (54302, 21362)\t0.069886695522578\n",
            "  (54302, 20474)\t0.12720361730745225\n",
            "  (54302, 20366)\t0.0757956575265664\n",
            "  (54302, 20287)\t0.050354380686481626\n",
            "  (54302, 18556)\t0.16155728586727156\n",
            "  (54302, 18202)\t0.17828421077583848\n",
            "  (54302, 14419)\t0.2040344870173036\n",
            "  (54302, 13603)\t0.1941312480768521\n",
            "  (54302, 7957)\t0.05284066929763591\n",
            "  (54302, 5697)\t0.08704039501105285\n",
            "  (54302, 4819)\t0.2396916157922991\n"
          ]
        }
      ],
      "source": [
        "print(X_train_tfidf)"
      ]
    },
    {
      "cell_type": "code",
      "execution_count": 26,
      "metadata": {
        "id": "XH-Y1_PEw2HY",
        "outputId": "e17fe6c7-a144-474a-898d-7e9c326e9449",
        "colab": {
          "base_uri": "https://localhost:8080/"
        }
      },
      "outputs": [
        {
          "output_type": "execute_result",
          "data": {
            "text/plain": [
              "54303"
            ]
          },
          "metadata": {},
          "execution_count": 26
        }
      ],
      "source": [
        "y_train.count()"
      ]
    },
    {
      "cell_type": "code",
      "execution_count": 27,
      "metadata": {
        "id": "u2lYOB2pw2HY"
      },
      "outputs": [],
      "source": [
        "# Modelo Naive Bayes\n",
        "clf = MultinomialNB().fit(X_train_tfidf, y_train)"
      ]
    },
    {
      "cell_type": "code",
      "source": [
        "# Obtener arreglo con predicciones\n",
        "y_pred = clf.predict(count_vect.transform(X_test))"
      ],
      "metadata": {
        "id": "CcmjdiR0fDvm"
      },
      "execution_count": 29,
      "outputs": []
    },
    {
      "cell_type": "code",
      "source": [
        "# Medir la proporción de resultados correctos del clasificador\n",
        "from sklearn.metrics import accuracy_score\n",
        "print(accuracy_score(y_test, y_pred))"
      ],
      "metadata": {
        "colab": {
          "base_uri": "https://localhost:8080/"
        },
        "id": "WMlwvXFigj4O",
        "outputId": "3a79be96-5cb7-4902-e9b3-0bc78fa791cc"
      },
      "execution_count": 30,
      "outputs": [
        {
          "output_type": "stream",
          "name": "stdout",
          "text": [
            "0.5060766766103193\n"
          ]
        }
      ]
    },
    {
      "cell_type": "code",
      "source": [
        "# Evaluación del modelo\n",
        "from sklearn.metrics import classification_report\n",
        "\n",
        "print(classification_report(y_test, y_pred))"
      ],
      "metadata": {
        "colab": {
          "base_uri": "https://localhost:8080/"
        },
        "id": "JtR7rBf1hr4Q",
        "outputId": "e8e1c382-3a75-4d85-e9dc-916a997468a8"
      },
      "execution_count": 34,
      "outputs": [
        {
          "output_type": "stream",
          "name": "stdout",
          "text": [
            "                   precision    recall  f1-score   support\n",
            "\n",
            "    #actonclimate       1.00      0.02      0.05       473\n",
            "       #bushfires       1.00      0.03      0.05       230\n",
            "   #climateaction       0.82      0.09      0.16      1582\n",
            "   #climatechange       0.39      0.84      0.54      4044\n",
            "   #climatecrisis       0.89      0.06      0.12      1207\n",
            "   #climatestrike       0.56      0.96      0.70      4566\n",
            "     #environment       0.76      0.19      0.30      1208\n",
            "#fridaysforfuture       0.93      0.08      0.15       765\n",
            "   #globalwarming       0.86      0.16      0.27      1050\n",
            "    #greennewdeal       0.98      0.16      0.27      1152\n",
            "   #savetheplanet       0.96      0.07      0.14       351\n",
            "  #sustainability       0.90      0.32      0.48      1474\n",
            "\n",
            "         accuracy                           0.51     18102\n",
            "        macro avg       0.84      0.25      0.27     18102\n",
            "     weighted avg       0.69      0.51      0.42     18102\n",
            "\n"
          ]
        }
      ]
    },
    {
      "cell_type": "code",
      "execution_count": 31,
      "metadata": {
        "id": "jhMpnF6_w2HY",
        "outputId": "37425fb4-bf6a-4ad5-f27f-c666997a4829",
        "colab": {
          "base_uri": "https://localhost:8080/"
        }
      },
      "outputs": [
        {
          "output_type": "stream",
          "name": "stdout",
          "text": [
            "MultinomialNB()\n"
          ]
        }
      ],
      "source": [
        "print(clf)"
      ]
    },
    {
      "cell_type": "code",
      "execution_count": 32,
      "metadata": {
        "id": "Lba_tnhEw2HZ",
        "outputId": "d05eb703-914c-40fd-cd9a-75ea39afaf41",
        "colab": {
          "base_uri": "https://localhost:8080/"
        }
      },
      "outputs": [
        {
          "output_type": "stream",
          "name": "stdout",
          "text": [
            "['#climatestrike']\n"
          ]
        }
      ],
      "source": [
        "print(clf.predict(count_vect.transform([\"A year of resistance, as youth protests shaped climate change discussions HOW ACTIVE WILL THIS YOUTH VOTE BE IN 2020\"])))"
      ]
    },
    {
      "cell_type": "code",
      "source": [
        "print(clf.predict(count_vect.transform([\"My oldest daughter finding inspiration and encouragement about the future by reading up on TIMES, Person of the Year, Greta Thunberg #climatestrike #letthekidsunite #futureleaders\"])))"
      ],
      "metadata": {
        "id": "CWIfHdE95Jnd",
        "outputId": "67c17b36-d5f2-4acc-c41f-606f772fa3a9",
        "colab": {
          "base_uri": "https://localhost:8080/"
        }
      },
      "execution_count": 33,
      "outputs": [
        {
          "output_type": "stream",
          "name": "stdout",
          "text": [
            "['#climatestrike']\n"
          ]
        }
      ]
    }
  ],
  "metadata": {
    "kernelspec": {
      "display_name": "Python 3.10.6 64-bit",
      "language": "python",
      "name": "python3"
    },
    "language_info": {
      "codemirror_mode": {
        "name": "ipython",
        "version": 3
      },
      "file_extension": ".py",
      "mimetype": "text/x-python",
      "name": "python",
      "nbconvert_exporter": "python",
      "pygments_lexer": "ipython3",
      "version": "3.10.6"
    },
    "vscode": {
      "interpreter": {
        "hash": "aee8b7b246df8f9039afb4144a1f6fd8d2ca17a180786b69acc140d282b71a49"
      }
    },
    "colab": {
      "provenance": []
    }
  },
  "nbformat": 4,
  "nbformat_minor": 0
}